{
 "cells": [
  {
   "cell_type": "code",
   "execution_count": 1,
   "metadata": {},
   "outputs": [],
   "source": [
    "import pyfpgrowth"
   ]
  },
  {
   "cell_type": "code",
   "execution_count": 2,
   "metadata": {},
   "outputs": [],
   "source": [
    "transaction = [[\"bread\", \"butter\", \"cereal\"],\n",
    " [\"butter\", \"milk\"],\n",
    " [\"bread\", \"milk\"],\n",
    " [\"butter\", \"cereal\", \"milk\"],\n",
    " [\"egg\", \"bread\"],\n",
    " [\"egg\", \"butter\"],\n",
    " [\"cereal\", \"milk\"],\n",
    " [\"bread\", \"butter\", \"cereal\", \"egg\"],\n",
    " [\"cereal\", \"bread\", \"butter\"]]"
   ]
  },
  {
   "cell_type": "code",
   "execution_count": 3,
   "metadata": {},
   "outputs": [],
   "source": [
    "patterns = pyfpgrowth.find_frequent_patterns(transaction, 2)"
   ]
  },
  {
   "cell_type": "code",
   "execution_count": 4,
   "metadata": {},
   "outputs": [
    {
     "name": "stdout",
     "output_type": "stream",
     "text": [
      "{('cereal',): (('butter',), 0.8), ('butter',): (('bread',), 0.5), ('butter', 'cereal'): (('bread',), 0.5), ('bread',): (('butter',), 0.6), ('bread', 'cereal'): (('butter',), 1.0), ('bread', 'butter'): (('cereal',), 0.6666666666666666)}\n"
     ]
    }
   ],
   "source": [
    "rules = pyfpgrowth.generate_association_rules(patterns, 0.5)\n",
    "print(rules)"
   ]
  }
 ],
 "metadata": {
  "kernelspec": {
   "display_name": "Python 3",
   "language": "python",
   "name": "python3"
  },
  "language_info": {
   "codemirror_mode": {
    "name": "ipython",
    "version": 3
   },
   "file_extension": ".py",
   "mimetype": "text/x-python",
   "name": "python",
   "nbconvert_exporter": "python",
   "pygments_lexer": "ipython3",
   "version": "3.6.3"
  }
 },
 "nbformat": 4,
 "nbformat_minor": 2
}
