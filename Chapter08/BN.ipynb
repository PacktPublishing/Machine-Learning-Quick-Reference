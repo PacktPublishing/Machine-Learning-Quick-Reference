{
 "cells": [
  {
   "cell_type": "code",
   "execution_count": 1,
   "metadata": {},
   "outputs": [],
   "source": [
    "import pandas as pd\n",
    "import numpy as np\n",
    "import os"
   ]
  },
  {
   "cell_type": "code",
   "execution_count": 2,
   "metadata": {},
   "outputs": [],
   "source": [
    "traindf= pd.read_csv(\"train.csv\")\n",
    "testdf= pd.read_csv(\"test.csv\")"
   ]
  },
  {
   "cell_type": "code",
   "execution_count": 3,
   "metadata": {},
   "outputs": [
    {
     "data": {
      "text/plain": [
       "PassengerId    66231.000000\n",
       "Survived           0.236772\n",
       "Pclass             0.699015\n",
       "Age              211.019125\n",
       "SibSp              1.216043\n",
       "Parch              0.649728\n",
       "Fare            2469.436846\n",
       "dtype: float64"
      ]
     },
     "execution_count": 3,
     "metadata": {},
     "output_type": "execute_result"
    }
   ],
   "source": [
    "traindf.var()"
   ]
  },
  {
   "cell_type": "code",
   "execution_count": 4,
   "metadata": {},
   "outputs": [
    {
     "name": "stdout",
     "output_type": "stream",
     "text": [
      "PassengerId: 891\n",
      "Survived: 2\n",
      "Pclass: 3\n",
      "Name: 891\n",
      "Gender: 2\n",
      "Age: 89\n",
      "SibSp: 7\n",
      "Parch: 7\n",
      "Ticket: 681\n",
      "Fare: 248\n",
      "Cabin: 148\n",
      "Embarked: 4\n"
     ]
    }
   ],
   "source": [
    "for k in traindf.keys():\n",
    "    print('{0}: {1}'.format(k, len(traindf[k].unique())))"
   ]
  },
  {
   "cell_type": "code",
   "execution_count": 5,
   "metadata": {},
   "outputs": [
    {
     "name": "stdout",
     "output_type": "stream",
     "text": [
      "Survived\n",
      "Pclass\n",
      "Gender\n",
      "SibSp\n",
      "Parch\n",
      "Embarked\n"
     ]
    }
   ],
   "source": [
    "for k in traindf.keys():\n",
    "    if len(traindf[k].unique())<=10:\n",
    "        print(k)"
   ]
  },
  {
   "cell_type": "code",
   "execution_count": 6,
   "metadata": {},
   "outputs": [
    {
     "name": "stdout",
     "output_type": "stream",
     "text": [
      "Decade: 10\n"
     ]
    }
   ],
   "source": [
    "import math\n",
    "def forAge(row):\n",
    "    if row['Age'] < 10:\n",
    "        return '<10'\n",
    "    elif math.isnan(row['Age']):\n",
    "        return \"nan\"\n",
    "    else:\n",
    "        dec = str(int(row['Age']/10))\n",
    "        return \"{0}0's\".format(dec)\n",
    "decade=traindf.apply(forAge, axis=1)\n",
    "print(\"Decade: {1}\".format(k, len(decade.unique())))"
   ]
  },
  {
   "cell_type": "code",
   "execution_count": 7,
   "metadata": {},
   "outputs": [],
   "source": [
    "import numpy as np\n",
    "def pretreat(df):\n",
    "    # create a df with discrete variables (len<10)\n",
    "    filt=[k for k in df.keys() if len(df[k].unique())<=10]\n",
    "    filtr2=df[filt].copy()\n",
    "    forAge = lambda row: int(row['Age']/10) if not math.isnan(row['Age']) else np.nan\n",
    "    filtr2['Decade']=df.apply(forAge, axis=1) \n",
    "    filtr2=filtr2.dropna()    \n",
    "    filtr2['Decade']=filtr2['Decade'].astype('int32')\n",
    "    return filtr2"
   ]
  },
  {
   "cell_type": "code",
   "execution_count": 8,
   "metadata": {},
   "outputs": [],
   "source": [
    "ptraindf= pretreat(traindf)\n",
    "ptestdf=pretreat(testdf)"
   ]
  },
  {
   "cell_type": "code",
   "execution_count": 9,
   "metadata": {},
   "outputs": [],
   "source": [
    "ptraindf.to_csv('post_train.csv', index=False)\n",
    "ptestdf.to_csv( 'post_test.csv', index=False)"
   ]
  },
  {
   "cell_type": "code",
   "execution_count": 10,
   "metadata": {},
   "outputs": [],
   "source": [
    "import pyAgrum as gum\n",
    "import matplotlib.pyplot as plt\n",
    "import pyAgrum.lib.notebook as gnb"
   ]
  },
  {
   "cell_type": "code",
   "execution_count": 11,
   "metadata": {},
   "outputs": [
    {
     "name": "stdout",
     "output_type": "stream",
     "text": [
      "Survived : [0 1]\n",
      "Pclass : [3 1 2]\n",
      "Gender : ['male' 'female']\n",
      "SibSp : [1 0 3 4 2 5]\n",
      "Parch : [0 1 2 5 3 4 6]\n",
      "Embarked : ['S' 'C' 'Q']\n",
      "Decade : [2 3 5 0 1 4 6 7 8]\n"
     ]
    }
   ],
   "source": [
    "df=pd.read_csv('post_train.csv')\n",
    "for k in df.keys():\n",
    "    print(\"{} : {}\".format(k, df[k].unique()))"
   ]
  },
  {
   "cell_type": "code",
   "execution_count": 17,
   "metadata": {},
   "outputs": [
    {
     "data": {
      "text/html": [
       "<svg height=\"20pt\" viewBox=\"0.00 0.00 288.00 20.07\" width=\"288pt\" xmlns=\"http://www.w3.org/2000/svg\" xmlns:xlink=\"http://www.w3.org/1999/xlink\">\n",
       "<g class=\"graph\" id=\"graph0\" transform=\"scale(0.456207 0.456207) rotate(0) translate(4 40)\">\n",
       "<title>G</title>\n",
       "<!-- Survived -->\n",
       "<g class=\"node\" id=\"node1\"><title>Survived</title>\n",
       "<g id=\"a_node1\"><a xlink:title=\"(0) Survived\">\n",
       "<ellipse cx=\"42.2463\" cy=\"-18\" fill=\"#444444\" rx=\"42.4939\" ry=\"18\" stroke=\"black\"/>\n",
       "<text fill=\"#ffffff\" font-family=\"Times,serif\" font-size=\"14.00\" text-anchor=\"middle\" x=\"42.2463\" y=\"-14.3\">Survived</text>\n",
       "</a>\n",
       "</g>\n",
       "</g>\n",
       "<!-- Pclass -->\n",
       "<g class=\"node\" id=\"node2\"><title>Pclass</title>\n",
       "<g id=\"a_node2\"><a xlink:title=\"(1) Pclass\">\n",
       "<ellipse cx=\"135.246\" cy=\"-18\" fill=\"#444444\" rx=\"32.4942\" ry=\"18\" stroke=\"black\"/>\n",
       "<text fill=\"#ffffff\" font-family=\"Times,serif\" font-size=\"14.00\" text-anchor=\"middle\" x=\"135.246\" y=\"-14.3\">Pclass</text>\n",
       "</a>\n",
       "</g>\n",
       "</g>\n",
       "<!-- Gender -->\n",
       "<g class=\"node\" id=\"node3\"><title>Gender</title>\n",
       "<g id=\"a_node3\"><a xlink:title=\"(2) Gender\">\n",
       "<ellipse cx=\"222.246\" cy=\"-18\" fill=\"#444444\" rx=\"36.2938\" ry=\"18\" stroke=\"black\"/>\n",
       "<text fill=\"#ffffff\" font-family=\"Times,serif\" font-size=\"14.00\" text-anchor=\"middle\" x=\"222.246\" y=\"-14.3\">Gender</text>\n",
       "</a>\n",
       "</g>\n",
       "</g>\n",
       "<!-- SibSp -->\n",
       "<g class=\"node\" id=\"node4\"><title>SibSp</title>\n",
       "<g id=\"a_node4\"><a xlink:title=\"(3) SibSp\">\n",
       "<ellipse cx=\"308.246\" cy=\"-18\" fill=\"#444444\" rx=\"31.6951\" ry=\"18\" stroke=\"black\"/>\n",
       "<text fill=\"#ffffff\" font-family=\"Times,serif\" font-size=\"14.00\" text-anchor=\"middle\" x=\"308.246\" y=\"-14.3\">SibSp</text>\n",
       "</a>\n",
       "</g>\n",
       "</g>\n",
       "<!-- Parch -->\n",
       "<g class=\"node\" id=\"node5\"><title>Parch</title>\n",
       "<g id=\"a_node5\"><a xlink:title=\"(4) Parch\">\n",
       "<ellipse cx=\"388.246\" cy=\"-18\" fill=\"#444444\" rx=\"30.5947\" ry=\"18\" stroke=\"black\"/>\n",
       "<text fill=\"#ffffff\" font-family=\"Times,serif\" font-size=\"14.00\" text-anchor=\"middle\" x=\"388.246\" y=\"-14.3\">Parch</text>\n",
       "</a>\n",
       "</g>\n",
       "</g>\n",
       "<!-- Embarked -->\n",
       "<g class=\"node\" id=\"node6\"><title>Embarked</title>\n",
       "<g id=\"a_node6\"><a xlink:title=\"(5) Embarked\">\n",
       "<ellipse cx=\"484.246\" cy=\"-18\" fill=\"#444444\" rx=\"47.3916\" ry=\"18\" stroke=\"black\"/>\n",
       "<text fill=\"#ffffff\" font-family=\"Times,serif\" font-size=\"14.00\" text-anchor=\"middle\" x=\"484.246\" y=\"-14.3\">Embarked</text>\n",
       "</a>\n",
       "</g>\n",
       "</g>\n",
       "<!-- Decade -->\n",
       "<g class=\"node\" id=\"node7\"><title>Decade</title>\n",
       "<g id=\"a_node7\"><a xlink:title=\"(6) Decade\">\n",
       "<ellipse cx=\"586.246\" cy=\"-18\" fill=\"#444444\" rx=\"37.0935\" ry=\"18\" stroke=\"black\"/>\n",
       "<text fill=\"#ffffff\" font-family=\"Times,serif\" font-size=\"14.00\" text-anchor=\"middle\" x=\"586.246\" y=\"-14.3\">Decade</text>\n",
       "</a>\n",
       "</g>\n",
       "</g>\n",
       "</g>\n",
       "</svg>"
      ],
      "text/plain": [
       "<IPython.core.display.HTML object>"
      ]
     },
     "metadata": {},
     "output_type": "display_data"
    }
   ],
   "source": [
    "template=gum.BayesNet()\n",
    "template.add(gum.RangeVariable(\"Survived\", \"Survived\",0,1))\n",
    "template.add(gum.RangeVariable(\"Pclass\", \"Pclass\",1,3))\n",
    "template.add(gum.LabelizedVariable(\"Gender\", \"Gender\",0).addLabel(\"female\").addLabel(\"male\"))\n",
    "template.add(gum.RangeVariable(\"SibSp\", \"SibSp\",0,8))\n",
    "template.add(gum.RangeVariable(\"Parch\", \"Parch\",0,9))\n",
    "template.add(gum.LabelizedVariable(\"Embarked\", \"Embarked\",0).addLabel('').addLabel('C').addLabel('Q').addLabel('S'))\n",
    "template.add(gum.RangeVariable(\"Decade\", \"Calculated decade\", 0,9))           \n",
    "gnb.showBN(template)"
   ]
  },
  {
   "cell_type": "code",
   "execution_count": 18,
   "metadata": {},
   "outputs": [
    {
     "data": {
      "text/html": [
       "<svg height=\"288pt\" viewBox=\"0.00 0.00 256.16 288.00\" width=\"256pt\" xmlns=\"http://www.w3.org/2000/svg\" xmlns:xlink=\"http://www.w3.org/1999/xlink\">\n",
       "<g class=\"graph\" id=\"graph0\" transform=\"scale(0.86747 0.86747) rotate(0) translate(4 328)\">\n",
       "<title>G</title>\n",
       "<!-- Survived -->\n",
       "<g class=\"node\" id=\"node1\"><title>Survived</title>\n",
       "<g id=\"a_node1\"><a xlink:title=\"(0) Survived\">\n",
       "<ellipse cx=\"42.2463\" cy=\"-162\" fill=\"#444444\" rx=\"42.4939\" ry=\"18\" stroke=\"black\"/>\n",
       "<text fill=\"#ffffff\" font-family=\"Times,serif\" font-size=\"14.00\" text-anchor=\"middle\" x=\"42.2463\" y=\"-158.3\">Survived</text>\n",
       "</a>\n",
       "</g>\n",
       "</g>\n",
       "<!-- Pclass -->\n",
       "<g class=\"node\" id=\"node2\"><title>Pclass</title>\n",
       "<g id=\"a_node2\"><a xlink:title=\"(1) Pclass\">\n",
       "<ellipse cx=\"77.2463\" cy=\"-90\" fill=\"#444444\" rx=\"32.4942\" ry=\"18\" stroke=\"black\"/>\n",
       "<text fill=\"#ffffff\" font-family=\"Times,serif\" font-size=\"14.00\" text-anchor=\"middle\" x=\"77.2463\" y=\"-86.3\">Pclass</text>\n",
       "</a>\n",
       "</g>\n",
       "</g>\n",
       "<!-- Survived&#45;&gt;Pclass -->\n",
       "<g class=\"edge\" id=\"edge1\"><title>Survived-&gt;Pclass</title>\n",
       "<g id=\"a_edge1\"><a xlink:title=\"(0, 1) : \">\n",
       "<path d=\"M50.7188,-144.055C54.8029,-135.887 59.7905,-125.912 64.334,-116.824\" fill=\"none\" stroke=\"#000000\"/>\n",
       "<polygon fill=\"#000000\" points=\"67.5101,-118.299 68.8518,-107.789 61.2491,-115.168 67.5101,-118.299\" stroke=\"#000000\"/>\n",
       "</a>\n",
       "</g>\n",
       "</g>\n",
       "<!-- Embarked -->\n",
       "<g class=\"node\" id=\"node6\"><title>Embarked</title>\n",
       "<g id=\"a_node6\"><a xlink:title=\"(5) Embarked\">\n",
       "<ellipse cx=\"77.2463\" cy=\"-18\" fill=\"#444444\" rx=\"47.3916\" ry=\"18\" stroke=\"black\"/>\n",
       "<text fill=\"#ffffff\" font-family=\"Times,serif\" font-size=\"14.00\" text-anchor=\"middle\" x=\"77.2463\" y=\"-14.3\">Embarked</text>\n",
       "</a>\n",
       "</g>\n",
       "</g>\n",
       "<!-- Pclass&#45;&gt;Embarked -->\n",
       "<g class=\"edge\" id=\"edge4\"><title>Pclass-&gt;Embarked</title>\n",
       "<g id=\"a_edge4\"><a xlink:title=\"(1, 5) : \">\n",
       "<path d=\"M77.2463,-71.6966C77.2463,-63.9827 77.2463,-54.7125 77.2463,-46.1124\" fill=\"none\" stroke=\"#000000\"/>\n",
       "<polygon fill=\"#000000\" points=\"80.7464,-46.1043 77.2463,-36.1043 73.7464,-46.1044 80.7464,-46.1043\" stroke=\"#000000\"/>\n",
       "</a>\n",
       "</g>\n",
       "</g>\n",
       "<!-- Gender -->\n",
       "<g class=\"node\" id=\"node3\"><title>Gender</title>\n",
       "<g id=\"a_node3\"><a xlink:title=\"(2) Gender\">\n",
       "<ellipse cx=\"77.2463\" cy=\"-234\" fill=\"#444444\" rx=\"36.2938\" ry=\"18\" stroke=\"black\"/>\n",
       "<text fill=\"#ffffff\" font-family=\"Times,serif\" font-size=\"14.00\" text-anchor=\"middle\" x=\"77.2463\" y=\"-230.3\">Gender</text>\n",
       "</a>\n",
       "</g>\n",
       "</g>\n",
       "<!-- Gender&#45;&gt;Survived -->\n",
       "<g class=\"edge\" id=\"edge5\"><title>Gender-&gt;Survived</title>\n",
       "<g id=\"a_edge5\"><a xlink:title=\"(2, 0) : \">\n",
       "<path d=\"M68.9517,-216.411C64.8709,-208.249 59.8564,-198.22 55.2789,-189.065\" fill=\"none\" stroke=\"#000000\"/>\n",
       "<polygon fill=\"#000000\" points=\"58.327,-187.335 50.7244,-179.956 52.066,-190.466 58.327,-187.335\" stroke=\"#000000\"/>\n",
       "</a>\n",
       "</g>\n",
       "</g>\n",
       "<!-- Gender&#45;&gt;Pclass -->\n",
       "<g class=\"edge\" id=\"edge3\"><title>Gender-&gt;Pclass</title>\n",
       "<g id=\"a_edge3\"><a xlink:title=\"(2, 1) : \">\n",
       "<path d=\"M83.7324,-216.104C87.3237,-205.835 91.4211,-192.361 93.2463,-180 95.5834,-164.172 95.5834,-159.828 93.2463,-144 91.9487,-135.212 89.5026,-125.862 86.9065,-117.5\" fill=\"none\" stroke=\"#000000\"/>\n",
       "<polygon fill=\"#000000\" points=\"90.1936,-116.292 83.7324,-107.896 83.5471,-118.489 90.1936,-116.292\" stroke=\"#000000\"/>\n",
       "</a>\n",
       "</g>\n",
       "</g>\n",
       "<!-- SibSp -->\n",
       "<g class=\"node\" id=\"node4\"><title>SibSp</title>\n",
       "<g id=\"a_node4\"><a xlink:title=\"(3) SibSp\">\n",
       "<ellipse cx=\"163.246\" cy=\"-234\" fill=\"#444444\" rx=\"31.6951\" ry=\"18\" stroke=\"black\"/>\n",
       "<text fill=\"#ffffff\" font-family=\"Times,serif\" font-size=\"14.00\" text-anchor=\"middle\" x=\"163.246\" y=\"-230.3\">SibSp</text>\n",
       "</a>\n",
       "</g>\n",
       "</g>\n",
       "<!-- Parch -->\n",
       "<g class=\"node\" id=\"node5\"><title>Parch</title>\n",
       "<g id=\"a_node5\"><a xlink:title=\"(4) Parch\">\n",
       "<ellipse cx=\"163.246\" cy=\"-306\" fill=\"#444444\" rx=\"30.5947\" ry=\"18\" stroke=\"black\"/>\n",
       "<text fill=\"#ffffff\" font-family=\"Times,serif\" font-size=\"14.00\" text-anchor=\"middle\" x=\"163.246\" y=\"-302.3\">Parch</text>\n",
       "</a>\n",
       "</g>\n",
       "</g>\n",
       "<!-- Parch&#45;&gt;Gender -->\n",
       "<g class=\"edge\" id=\"edge7\"><title>Parch-&gt;Gender</title>\n",
       "<g id=\"a_edge7\"><a xlink:title=\"(4, 2) : \">\n",
       "<path d=\"M145.843,-290.834C133.731,-280.976 117.358,-267.649 103.646,-256.488\" fill=\"none\" stroke=\"#000000\"/>\n",
       "<polygon fill=\"#000000\" points=\"105.479,-253.468 95.5142,-249.869 101.06,-258.897 105.479,-253.468\" stroke=\"#000000\"/>\n",
       "</a>\n",
       "</g>\n",
       "</g>\n",
       "<!-- Parch&#45;&gt;SibSp -->\n",
       "<g class=\"edge\" id=\"edge6\"><title>Parch-&gt;SibSp</title>\n",
       "<g id=\"a_edge6\"><a xlink:title=\"(4, 3) : \">\n",
       "<path d=\"M163.246,-287.697C163.246,-279.983 163.246,-270.712 163.246,-262.112\" fill=\"none\" stroke=\"#000000\"/>\n",
       "<polygon fill=\"#000000\" points=\"166.746,-262.104 163.246,-252.104 159.746,-262.104 166.746,-262.104\" stroke=\"#000000\"/>\n",
       "</a>\n",
       "</g>\n",
       "</g>\n",
       "<!-- Decade -->\n",
       "<g class=\"node\" id=\"node7\"><title>Decade</title>\n",
       "<g id=\"a_node7\"><a xlink:title=\"(6) Decade\">\n",
       "<ellipse cx=\"250.246\" cy=\"-234\" fill=\"#444444\" rx=\"37.0935\" ry=\"18\" stroke=\"black\"/>\n",
       "<text fill=\"#ffffff\" font-family=\"Times,serif\" font-size=\"14.00\" text-anchor=\"middle\" x=\"250.246\" y=\"-230.3\">Decade</text>\n",
       "</a>\n",
       "</g>\n",
       "</g>\n",
       "<!-- Parch&#45;&gt;Decade -->\n",
       "<g class=\"edge\" id=\"edge2\"><title>Parch-&gt;Decade</title>\n",
       "<g id=\"a_edge2\"><a xlink:title=\"(4, 6) : \">\n",
       "<path d=\"M180.852,-290.834C193.221,-280.883 209.981,-267.397 223.931,-256.173\" fill=\"none\" stroke=\"#000000\"/>\n",
       "<polygon fill=\"#000000\" points=\"226.169,-258.865 231.766,-249.869 221.781,-253.411 226.169,-258.865\" stroke=\"#000000\"/>\n",
       "</a>\n",
       "</g>\n",
       "</g>\n",
       "</g>\n",
       "</svg>"
      ],
      "text/plain": [
       "(gum::BayesNet<double>@0x21a2730) BN{nodes: 7, arcs: 7, domainSize: 43200, parameters: 248, compression ratio: 99% }"
      ]
     },
     "execution_count": 18,
     "metadata": {},
     "output_type": "execute_result"
    }
   ],
   "source": [
    "learner = gum.BNLearner('post_train.csv', template)\n",
    "bn = learner.learnBN()\n",
    "bn"
   ]
  },
  {
   "cell_type": "code",
   "execution_count": 19,
   "metadata": {},
   "outputs": [
    {
     "data": {
      "text/html": [
       "<div align='center'><svg height=\"332pt\" viewBox=\"0.00 0.00 295.29 332.00\" width=\"295pt\" xmlns=\"http://www.w3.org/2000/svg\" xmlns:xlink=\"http://www.w3.org/1999/xlink\">\n",
       "<g class=\"graph\" id=\"graph0\" transform=\"scale(1 1) rotate(0) translate(4 328)\">\n",
       "<title>G</title>\n",
       "<!-- Survived -->\n",
       "<g class=\"node\" id=\"node1\"><title>Survived</title>\n",
       "<g id=\"a_node1\"><a xlink:title=\"(0) Survived : 0.97359\">\n",
       "<ellipse cx=\"42.2463\" cy=\"-162\" fill=\"#4f060a\" rx=\"42.4939\" ry=\"18\" stroke=\"black\"/>\n",
       "<text fill=\"#ffffff\" font-family=\"Times,serif\" font-size=\"14.00\" text-anchor=\"middle\" x=\"42.2463\" y=\"-158.3\">Survived</text>\n",
       "</a>\n",
       "</g>\n",
       "</g>\n",
       "<!-- Pclass -->\n",
       "<g class=\"node\" id=\"node2\"><title>Pclass</title>\n",
       "<g id=\"a_node2\"><a xlink:title=\"(1) Pclass : 1.50129\">\n",
       "<ellipse cx=\"77.2463\" cy=\"-90\" fill=\"#68365b\" rx=\"32.4942\" ry=\"18\" stroke=\"black\"/>\n",
       "<text fill=\"#ffffff\" font-family=\"Times,serif\" font-size=\"14.00\" text-anchor=\"middle\" x=\"77.2463\" y=\"-86.3\">Pclass</text>\n",
       "</a>\n",
       "</g>\n",
       "</g>\n",
       "<!-- Survived&#45;&gt;Pclass -->\n",
       "<g class=\"edge\" id=\"edge1\"><title>Survived-&gt;Pclass</title>\n",
       "<g id=\"a_edge1\"><a xlink:title=\"(0, 1) : 0.09377567147937242\">\n",
       "<path d=\"M50.7188,-144.055C54.8029,-135.887 59.7905,-125.912 64.334,-116.824\" fill=\"none\" stroke=\"#000000\" stroke-width=\"1.85171\"/>\n",
       "<polygon fill=\"#000000\" points=\"67.5101,-118.299 68.8518,-107.789 61.2491,-115.168 67.5101,-118.299\" stroke=\"#000000\" stroke-width=\"1.85171\"/>\n",
       "</a>\n",
       "</g>\n",
       "</g>\n",
       "<!-- Embarked -->\n",
       "<g class=\"node\" id=\"node6\"><title>Embarked</title>\n",
       "<g id=\"a_node6\"><a xlink:title=\"(5) Embarked : 0.91907\">\n",
       "<ellipse cx=\"77.2463\" cy=\"-18\" fill=\"#4d0102\" rx=\"47.3916\" ry=\"18\" stroke=\"black\"/>\n",
       "<text fill=\"#ffffff\" font-family=\"Times,serif\" font-size=\"14.00\" text-anchor=\"middle\" x=\"77.2463\" y=\"-14.3\">Embarked</text>\n",
       "</a>\n",
       "</g>\n",
       "</g>\n",
       "<!-- Pclass&#45;&gt;Embarked -->\n",
       "<g class=\"edge\" id=\"edge4\"><title>Pclass-&gt;Embarked</title>\n",
       "<g id=\"a_edge4\"><a xlink:title=\"(1, 5) : 0.08692509724452918\">\n",
       "<path d=\"M77.2463,-71.6966C77.2463,-63.9827 77.2463,-54.7125 77.2463,-46.1124\" fill=\"none\" stroke=\"#000000\" stroke-width=\"1.69253\"/>\n",
       "<polygon fill=\"#000000\" points=\"80.7464,-46.1043 77.2463,-36.1043 73.7464,-46.1044 80.7464,-46.1043\" stroke=\"#000000\" stroke-width=\"1.69253\"/>\n",
       "</a>\n",
       "</g>\n",
       "</g>\n",
       "<!-- Gender -->\n",
       "<g class=\"node\" id=\"node3\"><title>Gender</title>\n",
       "<g id=\"a_node3\"><a xlink:title=\"(2) Gender : 0.94592\">\n",
       "<ellipse cx=\"77.2463\" cy=\"-234\" fill=\"#4e0306\" rx=\"36.2938\" ry=\"18\" stroke=\"black\"/>\n",
       "<text fill=\"#ffffff\" font-family=\"Times,serif\" font-size=\"14.00\" text-anchor=\"middle\" x=\"77.2463\" y=\"-230.3\">Gender</text>\n",
       "</a>\n",
       "</g>\n",
       "</g>\n",
       "<!-- Gender&#45;&gt;Survived -->\n",
       "<g class=\"edge\" id=\"edge5\"><title>Gender-&gt;Survived</title>\n",
       "<g id=\"a_edge5\"><a xlink:title=\"(2, 0) : 0.21348084055839042\">\n",
       "<path d=\"M68.9517,-216.411C64.8709,-208.249 59.8564,-198.22 55.2789,-189.065\" fill=\"none\" stroke=\"#000000\" stroke-width=\"4.63321\"/>\n",
       "<polygon fill=\"#000000\" points=\"58.8226,-187.087 50.7244,-179.956 51.5705,-190.714 58.8226,-187.087\" stroke=\"#000000\" stroke-width=\"4.63321\"/>\n",
       "</a>\n",
       "</g>\n",
       "</g>\n",
       "<!-- Gender&#45;&gt;Pclass -->\n",
       "<g class=\"edge\" id=\"edge3\"><title>Gender-&gt;Pclass</title>\n",
       "<g id=\"a_edge3\"><a xlink:title=\"(2, 1) : 0.018388796256806263\">\n",
       "<path d=\"M83.7324,-216.104C87.3237,-205.835 91.4211,-192.361 93.2463,-180 95.5834,-164.172 95.5834,-159.828 93.2463,-144 91.9487,-135.212 89.5026,-125.862 86.9065,-117.5\" fill=\"none\" stroke=\"#000000\" stroke-width=\"0.1\"/>\n",
       "<polygon fill=\"#000000\" points=\"90.1936,-116.292 83.7324,-107.896 83.5471,-118.489 90.1936,-116.292\" stroke=\"#000000\" stroke-width=\"0.1\"/>\n",
       "</a>\n",
       "</g>\n",
       "</g>\n",
       "<!-- SibSp -->\n",
       "<g class=\"node\" id=\"node4\"><title>SibSp</title>\n",
       "<g id=\"a_node4\"><a xlink:title=\"(3) SibSp : 1.36252\">\n",
       "<ellipse cx=\"163.246\" cy=\"-234\" fill=\"#612a46\" rx=\"31.6951\" ry=\"18\" stroke=\"black\"/>\n",
       "<text fill=\"#ffffff\" font-family=\"Times,serif\" font-size=\"14.00\" text-anchor=\"middle\" x=\"163.246\" y=\"-230.3\">SibSp</text>\n",
       "</a>\n",
       "</g>\n",
       "</g>\n",
       "<!-- Parch -->\n",
       "<g class=\"node\" id=\"node5\"><title>Parch</title>\n",
       "<g id=\"a_node5\"><a xlink:title=\"(4) Parch : 1.23770\">\n",
       "<ellipse cx=\"163.246\" cy=\"-306\" fill=\"#5c1e33\" rx=\"30.5947\" ry=\"18\" stroke=\"black\"/>\n",
       "<text fill=\"#ffffff\" font-family=\"Times,serif\" font-size=\"14.00\" text-anchor=\"middle\" x=\"163.246\" y=\"-302.3\">Parch</text>\n",
       "</a>\n",
       "</g>\n",
       "</g>\n",
       "<!-- Parch&#45;&gt;Gender -->\n",
       "<g class=\"edge\" id=\"edge7\"><title>Parch-&gt;Gender</title>\n",
       "<g id=\"a_edge7\"><a xlink:title=\"(4, 2) : 0.04935370467254296\">\n",
       "<path d=\"M145.843,-290.834C133.731,-280.976 117.358,-267.649 103.646,-256.488\" fill=\"none\" stroke=\"#000000\" stroke-width=\"0.819509\"/>\n",
       "<polygon fill=\"#000000\" points=\"105.479,-253.468 95.5142,-249.869 101.06,-258.897 105.479,-253.468\" stroke=\"#000000\" stroke-width=\"0.819509\"/>\n",
       "</a>\n",
       "</g>\n",
       "</g>\n",
       "<!-- Parch&#45;&gt;SibSp -->\n",
       "<g class=\"edge\" id=\"edge6\"><title>Parch-&gt;SibSp</title>\n",
       "<g id=\"a_edge6\"><a xlink:title=\"(4, 3) : 0.1867757758543106\">\n",
       "<path d=\"M163.246,-287.697C163.246,-279.983 163.246,-270.712 163.246,-262.112\" fill=\"none\" stroke=\"#000000\" stroke-width=\"4.01269\"/>\n",
       "<polygon fill=\"#000000\" points=\"166.757,-262.104 163.246,-252.104 159.735,-262.104 166.757,-262.104\" stroke=\"#000000\" stroke-width=\"4.01269\"/>\n",
       "</a>\n",
       "</g>\n",
       "</g>\n",
       "<!-- Decade -->\n",
       "<g class=\"node\" id=\"node7\"><title>Decade</title>\n",
       "<g id=\"a_node7\"><a xlink:title=\"(6) Decade : 2.56819\">\n",
       "<ellipse cx=\"250.246\" cy=\"-234\" fill=\"#9898fd\" rx=\"37.0935\" ry=\"18\" stroke=\"black\"/>\n",
       "<text fill=\"#000000\" font-family=\"Times,serif\" font-size=\"14.00\" text-anchor=\"middle\" x=\"250.246\" y=\"-230.3\">Decade</text>\n",
       "</a>\n",
       "</g>\n",
       "</g>\n",
       "<!-- Parch&#45;&gt;Decade -->\n",
       "<g class=\"edge\" id=\"edge2\"><title>Parch-&gt;Decade</title>\n",
       "<g id=\"a_edge2\"><a xlink:title=\"(4, 6) : 0.23356964364352656\">\n",
       "<path d=\"M180.852,-290.834C193.221,-280.883 209.981,-267.397 223.931,-256.173\" fill=\"none\" stroke=\"#000000\" stroke-width=\"5.1\"/>\n",
       "<polygon fill=\"#000000\" points=\"226.772,-259.615 231.766,-249.869 221.177,-252.661 226.772,-259.615\" stroke=\"#000000\" stroke-width=\"5.1\"/>\n",
       "</a>\n",
       "</g>\n",
       "</g>\n",
       "</g>\n",
       "</svg></div><div align='center'><font color='#4d0102'>0.9190670541925421</font><img style='vertical-align:middle' src='data:image/png;base64,iVBORw0KGgoAAAANSUhEUgAAAhsAAABRCAYAAAB7e2SeAAAABHNCSVQICAgIfAhkiAAAAAlwSFlz\n",
       "AAALEgAACxIB0t1+/AAAADl0RVh0U29mdHdhcmUAbWF0cGxvdGxpYiB2ZXJzaW9uIDIuMS4wLCBo\n",
       "dHRwOi8vbWF0cGxvdGxpYi5vcmcvpW3flQAACFJJREFUeJzt3X/IXXUdwPH3p2Y02VDZWth0rAL7\n",
       "8cfUZWVmskpIFzEqo0g0lpAQhEKB4R9mSGARFf2UMjNFMtLhlMoItCasac3Wpi1klKyhZKtQt1Zj\n",
       "j5/+OOeZT8+ee5+zZ8/3nrtz3i942D3nfO+5n8859373ueece76RmUiSJJXykrYDkCRJ3WaxIUmS\n",
       "irLYkCRJRVlsSJKkoiw2JElSURYbkiSpKIsNSZJUlMWGJEkqymJDkiQVteBoGi+LyIOztopGs2NQ\n",
       "u2FPnvUpwxscXhpNX7tZLg0Cq1vNTx4vNpvDNpw+NcdcxnefHN16mj1tNNvkyFjmuE0GPq2F9+lc\n",
       "98uxvvY8bcMjnz3b+uZ3X1RNp71Xm772wNlz2yaD98l891fD84jZ2jVZ5zzl0vY+mfs2afoZn73R\n",
       "7t1bf5GZF822lqMqNg4CFxx+w0wGO7nR/3964PzDncn0+ce+zsPLi8U47us7HmIc9/Ud+zr79j48\n",
       "Mt/xi/H4W9/xEON4ra+P78P57mvmsg2vvDKW0oCnUSRJUlEWG5IkqSiLDUmSVJTFhiRJKspiQ5Ik\n",
       "FWWxIUmSirLYkCRJRVlsSJKkoiw2JElSURYbkiSpKIsNSZJUlMWGJEkqymJDkiQVZbEhSZKKstiQ\n",
       "JElFWWxIkqSiLDYkSVJRFhuSJKkoiw1JklSUxYYkSSrKYkOSJBVlsSFJkoqy2JAkSUVZbEiSpKIs\n",
       "NiRJUlEWG5IkqSiLDUmSVJTFhiRJKspiQ5IkFWWxIUmSirLYkCRJRUVmNm8ccT+wtFw4UK9/b+HX\n",
       "GFfm3k/m3j99zRvMvWu5783Mi2ZrdFTFxihExO8y85y242iDuZt73/Q1977mDebe19w9jSJJkoqy\n",
       "2JAkSUWNY7Hx3bYDaJG595O5909f8wZz76Wxu2ZDkiR1yzge2ZAkSR3SSrEREbdExDMR8diA5RER\n",
       "X4+IXRGxPSJWjzrGUhrkfmmd8/aI2BwRZ446xlJmy31KuzdHxEREXDKq2EprkntErImIbRHxeET8\n",
       "epTxldTgPX9SRNwXEX+oc18/6hhLiIjTI+LBiNhZ53XVDG062dc1zL2TfV2T3Ke07VxfN1BmjvwP\n",
       "uABYDTw2YPla4OdAAOcCD7cRZ0u5nwecUj++uE+5121eCjwA/Ay4pO2YR7jfTwb+CKyop5e1HfMI\n",
       "c78W+GL9+BXAP4GXtR33POR9KrC6frwYeAJ447Q2nezrGubeyb6uSe71sk72dYP+WjmykZmbqDqU\n",
       "QdYBt2VlC3ByRJw6mujKmi33zNycmf+qJ7cAp40ksBFosN8BPgXcDTxTPqLRaZD7R4ENmbm7bt+Z\n",
       "/BvknsDiiAhgUd320ChiKykzn87MR+vHzwM7geXTmnWyr2uSe1f7uob7HTra1w0yrtdsLAf+OmV6\n",
       "DzPvrK67gupbTy9ExHLg/cBNbcfSgjOAUyLiVxGxNSIubzugEfom8AbgKWAHcFVmvtBuSPMrIlYC\n",
       "ZwMPT1vU+b5uSO5TdbKvG5R7H/u6BW0HMEDMMK9XP5uJiHdSfQDPbzuWEfoacE1mTlRfcntlAfAm\n",
       "4N3AQuA3EbElM59oN6yReA+wDXgX8FrglxHxUGY+125Y8yMiFlF9g716hpw63dfNkvtkm072dbPk\n",
       "3ru+blyLjT3A6VOmT6P61tMLEbEKuBm4ODP/0XY8I3QOcGf94VsKrI2IQ5l5T7thjcQeqjEG9gP7\n",
       "I2ITcCbV+d6uWw/cmNWJ7F0R8Rfg9cAj7YZ17CLiBKr/cO7IzA0zNOlsX9cg9872dQ1y711fN66n\n",
       "Ue4FLq+v1D4XeDYzn247qFGIiBXABuCynnyrPSwzX52ZKzNzJXAX8Mkuf/im2Qi8IyIWRMSJwFup\n",
       "zvX2wW6qIzpExCuB1wF/bjWieVBfg/J9YGdmfmVAs072dU1y72pf1yT3PvZ1rRzZiIgfAWuApRGx\n",
       "B/gccAJAZt5EdXXuWmAX8G+qbz6d0CD364AlwLfrqvdQdmTgnga5d9ZsuWfmzqhGVd4OvADcnJlD\n",
       "fyJ8vGiw328Abo2IHVSnFa7JzC6MjPl24DJgR0Rsq+ddC6yAzvd1TXLval/XJPfe8Q6ikiSpqHE9\n",
       "jSJJkjrCYkOSJBVlsSFJkoqy2JAkSUVZbEiSpKLG9aZekgqIiAmqW4JPujMzbxzSfg1wMDM3l45N\n",
       "UndZbEj9ciAzzzqK9muAfcARxUZELMjM437ANEnleZ8NqUciYl9mLpph/pPAD4H3Ud1w60PAf6hG\n",
       "45wA/k41SuUVVKOyng08CnwBuAV4DdVNqT6Rmdsj4nqqcU6WU92O+0uZ+b2IuB24KzM31q97B/Dj\n",
       "zLy3VM6S2uc1G1K/LIyIbVP+Pjxl2d7MXA18B/hMZj5JNSrlVzPzrMx8qG53BnBhZn4a+Dzw+8xc\n",
       "RXWXxNumrG8V8F7gbcB1EfEqqnEw1gNExEnAeVR30ZTUYZ5Gkfpl2GmUyQGjtgIfGLKOn2TmRP34\n",
       "fOCDAJn5QEQsqYsIgI2ZeQA4EBEPAm/JzHsi4lsRsax+jbs9FSN1n8WGpEn/rf+dYHjfsH/K42FD\n",
       "pE8/Rzs5fTtwKfAR4ONHGaOk45CnUSQN8zyweMjyTVSFw+QvV/Zm5nP1snUR8fKIWEJ1oelv6/m3\n",
       "AlcDZObj8x+ypHHjkQ2pXxZOGYkS4P7M/OyQ9vcBd0XEOqoLRKe7HvhBRGynukD0Y1OWPQL8lGq0\n",
       "yxsy8ymAzPxbROwEOj2ktqQX+WsUSfOu/jXKvsz88gzLTqS618fqzHx21LFJGj1Po0gamYi4EPgT\n",
       "8A0LDak/PLIhSZKK8siGJEkqymJDkiQVZbEhSZKKstiQJElFWWxIkqSiLDYkSVJR/wNEe1MpbKiX\n",
       "/wAAAABJRU5ErkJggg==\n",
       "'><font color='#9898fd'>2.5681856062967756</font></div>"
      ],
      "text/plain": [
       "<IPython.core.display.HTML object>"
      ]
     },
     "metadata": {},
     "output_type": "display_data"
    }
   ],
   "source": [
    "gnb.showInformation(bn,{},size=\"20\")"
   ]
  },
  {
   "cell_type": "code",
   "execution_count": 20,
   "metadata": {},
   "outputs": [
    {
     "data": {
      "image/png": "[encoded data removed]"
     },
     "metadata": {},
     "output_type": "display_data"
    }
   ],
   "source": [
    "gnb.showInference(bn)\n"
   ]
  },
  {
   "cell_type": "code",
   "execution_count": null,
   "metadata": {},
   "outputs": [],
   "source": [
    "gnb.showPosterior(bn,evs={},target='Survived')\n"
   ]
  },
  {
   "cell_type": "code",
   "execution_count": null,
   "metadata": {},
   "outputs": [],
   "source": [
    "gnb.showPosterior(bn,evs={\"Sex\": \"male\", \"Decade\": 3},target='Survived')\n"
   ]
  },
  {
   "cell_type": "code",
   "execution_count": null,
   "metadata": {},
   "outputs": [],
   "source": [
    "gnb.showPosterior(bn,evs={\"Sex\": \"female\", \"Decade\": 8},target='Survived')\n"
   ]
  },
  {
   "cell_type": "code",
   "execution_count": null,
   "metadata": {},
   "outputs": [],
   "source": [
    "gnb.sideBySide(bn, gum.MarkovBlanket(bn, 'Survived'), captions=[\"Learned Bayesian Network\", \"Markov blanket of 'Survived'\"])\n"
   ]
  },
  {
   "cell_type": "code",
   "execution_count": null,
   "metadata": {},
   "outputs": [],
   "source": [
    "from pyAgrum.lib.bn2roc import showROC\n",
    "showROC(bn, 'post_train.csv','Survived',\"1\",True,True)"
   ]
  },
  {
   "cell_type": "code",
   "execution_count": null,
   "metadata": {},
   "outputs": [],
   "source": [
    "vars=[var for var in ptestdf.keys() if var != \"Survived\" ]\n",
    "ie=gum.LazyPropagation(bn)\n",
    "testdf=pd.read_csv('post_test.csv')\n",
    "\n",
    "def init_belief():\n",
    "    # Initialize evidence\n",
    "    for var in vars:\n",
    "        ie.addEvidence(var, 0)\n",
    "\n",
    "def update_beliefs(row):\n",
    "    # Update beliefs from a given row less the Survived variable\n",
    "    for var in vars:\n",
    "        label = str(row.to_dict()[var])\n",
    "        idx = bn.variable(var).index(str(row.to_dict()[var]))\n",
    "        ie.chgEvidence(var, idx)\n",
    "    ie.makeInference()\n",
    "    \n",
    "def is_well_predicted(row):\n",
    "    update_beliefs(row)\n",
    "    marginal = ie.posterior('Survived')\n",
    "    outcome = row.to_dict()['Survived']\n",
    "    if outcome == 0: # Did not survived\n",
    "        if marginal.toarray()[1] < 0.46576681:\n",
    "            return \"True Positive\"\n",
    "        else:\n",
    "            return \"False Negative\"\n",
    "    else: # Survived\n",
    "        if marginal.toarray()[1] >= 0.46576681:\n",
    "            return \"True Negative\"\n",
    "        else:\n",
    "            return \"False Positive\"\n",
    "\n",
    "init_belief()\n",
    "ie.addTarget('Survived')\n",
    "\n",
    "result = testdf.apply(is_well_predicted, axis=1)\n",
    "\n",
    "result.value_counts(True)"
   ]
  },
  {
   "cell_type": "code",
   "execution_count": 21,
   "metadata": {},
   "outputs": [
    {
     "ename": "NameError",
     "evalue": "name 'getpwd' is not defined",
     "output_type": "error",
     "traceback": [
      "\u001b[0;31m---------------------------------------------------------------------------\u001b[0m",
      "\u001b[0;31mNameError\u001b[0m                                 Traceback (most recent call last)",
      "\u001b[0;32m<ipython-input-21-0fd4b571c7dc>\u001b[0m in \u001b[0;36m<module>\u001b[0;34m\u001b[0m\n\u001b[0;32m----> 1\u001b[0;31m \u001b[0mgetpwd\u001b[0m\u001b[0;34m(\u001b[0m\u001b[0;34m)\u001b[0m\u001b[0;34m\u001b[0m\u001b[0m\n\u001b[0m",
      "\u001b[0;31mNameError\u001b[0m: name 'getpwd' is not defined"
     ]
    }
   ],
   "source": [
    "\n"
   ]
  }
 ],
 "metadata": {
  "kernelspec": {
   "display_name": "Python 3",
   "language": "python",
   "name": "python3"
  },
  "language_info": {
   "codemirror_mode": {
    "name": "ipython",
    "version": 3
   },
   "file_extension": ".py",
   "mimetype": "text/x-python",
   "name": "python",
   "nbconvert_exporter": "python",
   "pygments_lexer": "ipython3",
   "version": "3.6.2"
  }
 },
 "nbformat": 4,
 "nbformat_minor": 2
}
