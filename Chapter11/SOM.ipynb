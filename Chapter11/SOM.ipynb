{
 "cells": [
  {
   "cell_type": "code",
   "execution_count": 1,
   "metadata": {},
   "outputs": [],
   "source": [
    "# Importing the libraries\n",
    "import numpy as np\n",
    "import matplotlib.pyplot as plt\n",
    "import pandas as pd"
   ]
  },
  {
   "cell_type": "code",
   "execution_count": 2,
   "metadata": {},
   "outputs": [],
   "source": [
    "dataset = pd.read_csv('Credit_Card_Applications.csv')\n",
    "X = dataset.iloc[:, :-1].values\n",
    "y = dataset.iloc[:, -1].values"
   ]
  },
  {
   "cell_type": "code",
   "execution_count": 3,
   "metadata": {},
   "outputs": [],
   "source": [
    "# Feature Scaling\n",
    "from sklearn.preprocessing import MinMaxScaler\n",
    "sc = MinMaxScaler(feature_range = (0, 1))\n",
    "X = sc.fit_transform(X)"
   ]
  },
  {
   "cell_type": "code",
   "execution_count": 5,
   "metadata": {},
   "outputs": [],
   "source": [
    "from minisom import MiniSom\n",
    "som = MiniSom(x = 10, y = 10, input_len = 15, sigma = 1.0, learning_rate = 0.5)\n",
    "som.random_weights_init(X)\n",
    "som.train_random(data = X, num_iteration = 100)"
   ]
  },
  {
   "cell_type": "code",
   "execution_count": 8,
   "metadata": {},
   "outputs": [
    {
     "data": {
      "image/png": "[encoded data removed]",
      "text/plain": [
       "<matplotlib.figure.Figure at 0x247d5b58518>"
      ]
     },
     "metadata": {},
     "output_type": "display_data"
    }
   ],
   "source": [
    "\n",
    "# Visualizing the results\n",
    "from pylab import bone, pcolor, colorbar, plot, show\n",
    "bone()\n",
    "pcolor(som.distance_map().T)\n",
    "colorbar()\n",
    "markers = ['o', 's']\n",
    "colors = ['r', 'g']\n",
    "for i, x in enumerate(X):\n",
    "    w = som.winner(x)\n",
    "    plot(w[0] + 0.5,\n",
    "         w[1] + 0.5,\n",
    "         markers[y[i]],\n",
    "         markeredgecolor = colors[y[i]],\n",
    "         markerfacecolor = 'None',\n",
    "         markersize = 10,\n",
    "         markeredgewidth = 2)\n",
    "show()\n"
   ]
  },
  {
   "cell_type": "code",
   "execution_count": 9,
   "metadata": {},
   "outputs": [],
   "source": [
    "# Finding the frauds\n",
    "mappings = som.win_map(X)\n",
    "frauds = np.concatenate((mappings[(8,1)], mappings[(6,8)]), axis = 0)\n",
    "frauds = sc.inverse_transform(frauds)"
   ]
  },
  {
   "cell_type": "code",
   "execution_count": 10,
   "metadata": {},
   "outputs": [
    {
     "data": {
      "text/plain": [
       "array([[  1.56614120e+07,   1.00000000e+00,   4.87500000e+01,\n",
       "          8.50000000e+00,   2.00000000e+00,   8.00000000e+00,\n",
       "          8.00000000e+00,   1.25000000e+01,   1.00000000e+00,\n",
       "          1.00000000e+00,   9.00000000e+00,   0.00000000e+00,\n",
       "          2.00000000e+00,   1.81000000e+02,   1.65600000e+03],\n",
       "       [  1.55898810e+07,   1.00000000e+00,   2.89200000e+01,\n",
       "          1.50000000e+01,   2.00000000e+00,   8.00000000e+00,\n",
       "          8.00000000e+00,   5.33500000e+00,   1.00000000e+00,\n",
       "          1.00000000e+00,   1.10000000e+01,   0.00000000e+00,\n",
       "          2.00000000e+00,   0.00000000e+00,   2.28400000e+03],\n",
       "       [  1.56225070e+07,   1.00000000e+00,   2.39200000e+01,\n",
       "          1.50000000e+00,   2.00000000e+00,   2.00000000e+00,\n",
       "          8.00000000e+00,   1.87500000e+00,   1.00000000e+00,\n",
       "          1.00000000e+00,   6.00000000e+00,   0.00000000e+00,\n",
       "          2.00000000e+00,   2.00000000e+02,   3.28000000e+02],\n",
       "       [  1.56628540e+07,   0.00000000e+00,   2.95800000e+01,\n",
       "          1.75000000e+00,   1.00000000e+00,   4.00000000e+00,\n",
       "          4.00000000e+00,   1.25000000e+00,   0.00000000e+00,\n",
       "          0.00000000e+00,   0.00000000e+00,   1.00000000e+00,\n",
       "          2.00000000e+00,   2.80000000e+02,   1.00000000e+00],\n",
       "       [  1.55681620e+07,   0.00000000e+00,   1.95000000e+01,\n",
       "          1.65000000e-01,   2.00000000e+00,   1.10000000e+01,\n",
       "          4.00000000e+00,   4.00000000e-02,   0.00000000e+00,\n",
       "          0.00000000e+00,   0.00000000e+00,   1.00000000e+00,\n",
       "          2.00000000e+00,   3.80000000e+02,   1.00000000e+00],\n",
       "       [  1.56621520e+07,   0.00000000e+00,   2.97500000e+01,\n",
       "          6.65000000e-01,   2.00000000e+00,   9.00000000e+00,\n",
       "          4.00000000e+00,   2.50000000e-01,   0.00000000e+00,\n",
       "          0.00000000e+00,   0.00000000e+00,   1.00000000e+00,\n",
       "          2.00000000e+00,   3.00000000e+02,   1.00000000e+00],\n",
       "       [  1.57345780e+07,   0.00000000e+00,   2.17500000e+01,\n",
       "          1.17500000e+01,   2.00000000e+00,   8.00000000e+00,\n",
       "          4.00000000e+00,   2.50000000e-01,   0.00000000e+00,\n",
       "          0.00000000e+00,   0.00000000e+00,   1.00000000e+00,\n",
       "          2.00000000e+00,   1.80000000e+02,   1.00000000e+00],\n",
       "       [  1.56601440e+07,   0.00000000e+00,   2.61700000e+01,\n",
       "          2.00000000e+00,   2.00000000e+00,   5.00000000e+00,\n",
       "          3.00000000e+00,   0.00000000e+00,   0.00000000e+00,\n",
       "          0.00000000e+00,   0.00000000e+00,   1.00000000e+00,\n",
       "          2.00000000e+00,   2.76000000e+02,   2.00000000e+00],\n",
       "       [  1.56035650e+07,   0.00000000e+00,   2.29200000e+01,\n",
       "          1.25000000e+00,   2.00000000e+00,   1.10000000e+01,\n",
       "          4.00000000e+00,   2.50000000e-01,   0.00000000e+00,\n",
       "          0.00000000e+00,   0.00000000e+00,   1.00000000e+00,\n",
       "          2.00000000e+00,   1.20000000e+02,   8.10000000e+02],\n",
       "       [  1.56647200e+07,   0.00000000e+00,   2.48300000e+01,\n",
       "          4.50000000e+00,   2.00000000e+00,   9.00000000e+00,\n",
       "          4.00000000e+00,   1.00000000e+00,   0.00000000e+00,\n",
       "          0.00000000e+00,   0.00000000e+00,   1.00000000e+00,\n",
       "          2.00000000e+00,   3.60000000e+02,   7.00000000e+00],\n",
       "       [  1.56458200e+07,   0.00000000e+00,   1.80800000e+01,\n",
       "          3.75000000e-01,   3.00000000e+00,   1.30000000e+01,\n",
       "          1.00000000e+00,   1.00000000e+01,   0.00000000e+00,\n",
       "          0.00000000e+00,   0.00000000e+00,   1.00000000e+00,\n",
       "          1.00000000e+00,   3.00000000e+02,   1.00000000e+00],\n",
       "       [  1.58005540e+07,   0.00000000e+00,   4.53300000e+01,\n",
       "          1.00000000e+00,   2.00000000e+00,   1.10000000e+01,\n",
       "          4.00000000e+00,   1.25000000e-01,   0.00000000e+00,\n",
       "          0.00000000e+00,   0.00000000e+00,   1.00000000e+00,\n",
       "          2.00000000e+00,   2.63000000e+02,   1.00000000e+00],\n",
       "       [  1.56179910e+07,   0.00000000e+00,   3.48300000e+01,\n",
       "          1.25000000e+00,   1.00000000e+00,   3.00000000e+00,\n",
       "          8.00000000e+00,   5.00000000e-01,   0.00000000e+00,\n",
       "          0.00000000e+00,   0.00000000e+00,   1.00000000e+00,\n",
       "          2.00000000e+00,   1.60000000e+02,   1.00000000e+00],\n",
       "       [  1.55679190e+07,   0.00000000e+00,   2.35000000e+01,\n",
       "          1.50000000e+00,   2.00000000e+00,   9.00000000e+00,\n",
       "          4.00000000e+00,   8.75000000e-01,   0.00000000e+00,\n",
       "          0.00000000e+00,   0.00000000e+00,   1.00000000e+00,\n",
       "          2.00000000e+00,   1.60000000e+02,   1.00000000e+00],\n",
       "       [  1.56387510e+07,   0.00000000e+00,   2.76700000e+01,\n",
       "          2.04000000e+00,   2.00000000e+00,   9.00000000e+00,\n",
       "          4.00000000e+00,   2.50000000e-01,   0.00000000e+00,\n",
       "          0.00000000e+00,   0.00000000e+00,   1.00000000e+00,\n",
       "          2.00000000e+00,   1.80000000e+02,   5.10000000e+01],\n",
       "       [  1.56065540e+07,   0.00000000e+00,   3.22500000e+01,\n",
       "          1.50000000e+00,   2.00000000e+00,   8.00000000e+00,\n",
       "          4.00000000e+00,   2.50000000e-01,   0.00000000e+00,\n",
       "          0.00000000e+00,   0.00000000e+00,   1.00000000e+00,\n",
       "          2.00000000e+00,   3.72000000e+02,   1.23000000e+02]])"
      ]
     },
     "execution_count": 10,
     "metadata": {},
     "output_type": "execute_result"
    }
   ],
   "source": [
    "frauds"
   ]
  },
  {
   "cell_type": "code",
   "execution_count": null,
   "metadata": {},
   "outputs": [],
   "source": []
  }
 ],
 "metadata": {
  "kernelspec": {
   "display_name": "Python 3",
   "language": "python",
   "name": "python3"
  },
  "language_info": {
   "codemirror_mode": {
    "name": "ipython",
    "version": 3
   },
   "file_extension": ".py",
   "mimetype": "text/x-python",
   "name": "python",
   "nbconvert_exporter": "python",
   "pygments_lexer": "ipython3",
   "version": "3.6.2"
  }
 },
 "nbformat": 4,
 "nbformat_minor": 2
}
