{
 "cells": [
  {
   "cell_type": "code",
   "execution_count": 1,
   "metadata": {},
   "outputs": [],
   "source": [
    "#Loading all the libraries\n",
    "import pandas as pd\n",
    "import numpy as np\n",
    "from sklearn import svm, datasets\n",
    "from sklearn.svm import SVC\n",
    "import matplotlib.pyplot as plt\n",
    "from sklearn.model_selection import train_test_split\n",
    "from sklearn.model_selection import GridSearchCV\n",
    "from sklearn.metrics import classification_report\n",
    "from sklearn.utils import shuffle\n",
    "%matplotlib inline"
   ]
  },
  {
   "cell_type": "code",
   "execution_count": 2,
   "metadata": {},
   "outputs": [],
   "source": [
    "#loading the dataset\n",
    "BC_Data = datasets.load_breast_cancer()\n"
   ]
  },
  {
   "cell_type": "code",
   "execution_count": 3,
   "metadata": {},
   "outputs": [
    {
     "name": "stdout",
     "output_type": "stream",
     "text": [
      "Breast Cancer Wisconsin (Diagnostic) Database\n",
      "=============================================\n",
      "\n",
      "Notes\n",
      "-----\n",
      "Data Set Characteristics:\n",
      "    :Number of Instances: 569\n",
      "\n",
      "    :Number of Attributes: 30 numeric, predictive attributes and the class\n",
      "\n",
      "    :Attribute Information:\n",
      "        - radius (mean of distances from center to points on the perimeter)\n",
      "        - texture (standard deviation of gray-scale values)\n",
      "        - perimeter\n",
      "        - area\n",
      "        - smoothness (local variation in radius lengths)\n",
      "        - compactness (perimeter^2 / area - 1.0)\n",
      "        - concavity (severity of concave portions of the contour)\n",
      "        - concave points (number of concave portions of the contour)\n",
      "        - symmetry \n",
      "        - fractal dimension (\"coastline approximation\" - 1)\n",
      "\n",
      "        The mean, standard error, and \"worst\" or largest (mean of the three\n",
      "        largest values) of these features were computed for each image,\n",
      "        resulting in 30 features.  For instance, field 3 is Mean Radius, field\n",
      "        13 is Radius SE, field 23 is Worst Radius.\n",
      "\n",
      "        - class:\n",
      "                - WDBC-Malignant\n",
      "                - WDBC-Benign\n",
      "\n",
      "    :Summary Statistics:\n",
      "\n",
      "    ===================================== ====== ======\n",
      "                                           Min    Max\n",
      "    ===================================== ====== ======\n",
      "    radius (mean):                        6.981  28.11\n",
      "    texture (mean):                       9.71   39.28\n",
      "    perimeter (mean):                     43.79  188.5\n",
      "    area (mean):                          143.5  2501.0\n",
      "    smoothness (mean):                    0.053  0.163\n",
      "    compactness (mean):                   0.019  0.345\n",
      "    concavity (mean):                     0.0    0.427\n",
      "    concave points (mean):                0.0    0.201\n",
      "    symmetry (mean):                      0.106  0.304\n",
      "    fractal dimension (mean):             0.05   0.097\n",
      "    radius (standard error):              0.112  2.873\n",
      "    texture (standard error):             0.36   4.885\n",
      "    perimeter (standard error):           0.757  21.98\n",
      "    area (standard error):                6.802  542.2\n",
      "    smoothness (standard error):          0.002  0.031\n",
      "    compactness (standard error):         0.002  0.135\n",
      "    concavity (standard error):           0.0    0.396\n",
      "    concave points (standard error):      0.0    0.053\n",
      "    symmetry (standard error):            0.008  0.079\n",
      "    fractal dimension (standard error):   0.001  0.03\n",
      "    radius (worst):                       7.93   36.04\n",
      "    texture (worst):                      12.02  49.54\n",
      "    perimeter (worst):                    50.41  251.2\n",
      "    area (worst):                         185.2  4254.0\n",
      "    smoothness (worst):                   0.071  0.223\n",
      "    compactness (worst):                  0.027  1.058\n",
      "    concavity (worst):                    0.0    1.252\n",
      "    concave points (worst):               0.0    0.291\n",
      "    symmetry (worst):                     0.156  0.664\n",
      "    fractal dimension (worst):            0.055  0.208\n",
      "    ===================================== ====== ======\n",
      "\n",
      "    :Missing Attribute Values: None\n",
      "\n",
      "    :Class Distribution: 212 - Malignant, 357 - Benign\n",
      "\n",
      "    :Creator:  Dr. William H. Wolberg, W. Nick Street, Olvi L. Mangasarian\n",
      "\n",
      "    :Donor: Nick Street\n",
      "\n",
      "    :Date: November, 1995\n",
      "\n",
      "This is a copy of UCI ML Breast Cancer Wisconsin (Diagnostic) datasets.\n",
      "https://goo.gl/U2Uwz2\n",
      "\n",
      "Features are computed from a digitized image of a fine needle\n",
      "aspirate (FNA) of a breast mass.  They describe\n",
      "characteristics of the cell nuclei present in the image.\n",
      "\n",
      "Separating plane described above was obtained using\n",
      "Multisurface Method-Tree (MSM-T) [K. P. Bennett, \"Decision Tree\n",
      "Construction Via Linear Programming.\" Proceedings of the 4th\n",
      "Midwest Artificial Intelligence and Cognitive Science Society,\n",
      "pp. 97-101, 1992], a classification method which uses linear\n",
      "programming to construct a decision tree.  Relevant features\n",
      "were selected using an exhaustive search in the space of 1-4\n",
      "features and 1-3 separating planes.\n",
      "\n",
      "The actual linear program used to obtain the separating plane\n",
      "in the 3-dimensional space is that described in:\n",
      "[K. P. Bennett and O. L. Mangasarian: \"Robust Linear\n",
      "Programming Discrimination of Two Linearly Inseparable Sets\",\n",
      "Optimization Methods and Software 1, 1992, 23-34].\n",
      "\n",
      "This database is also available through the UW CS ftp server:\n",
      "\n",
      "ftp ftp.cs.wisc.edu\n",
      "cd math-prog/cpo-dataset/machine-learn/WDBC/\n",
      "\n",
      "References\n",
      "----------\n",
      "   - W.N. Street, W.H. Wolberg and O.L. Mangasarian. Nuclear feature extraction \n",
      "     for breast tumor diagnosis. IS&T/SPIE 1993 International Symposium on \n",
      "     Electronic Imaging: Science and Technology, volume 1905, pages 861-870,\n",
      "     San Jose, CA, 1993.\n",
      "   - O.L. Mangasarian, W.N. Street and W.H. Wolberg. Breast cancer diagnosis and \n",
      "     prognosis via linear programming. Operations Research, 43(4), pages 570-577, \n",
      "     July-August 1995.\n",
      "   - W.H. Wolberg, W.N. Street, and O.L. Mangasarian. Machine learning techniques\n",
      "     to diagnose breast cancer from fine-needle aspirates. Cancer Letters 77 (1994) \n",
      "     163-171.\n",
      "\n"
     ]
    }
   ],
   "source": [
    "#Exploring the dataset\n",
    "print(BC_Data.DESCR)\n"
   ]
  },
  {
   "cell_type": "code",
   "execution_count": 4,
   "metadata": {},
   "outputs": [],
   "source": [
    "#Parititioning the data\n",
    "X_train, X_test, y_train, y_test = train_test_split(BC_Data.data,\n",
    "BC_Data.target, random_state=0)\n"
   ]
  },
  {
   "cell_type": "code",
   "execution_count": 5,
   "metadata": {},
   "outputs": [
    {
     "name": "stdout",
     "output_type": "stream",
     "text": [
      "Accuracy-train dataset: 0.967\n",
      "Accuracy- test dataset: 0.958\n"
     ]
    }
   ],
   "source": [
    "#Fitting the model by using linear kernel\n",
    "C= 1.0\n",
    "svm= SVC(kernel=\"linear\",C=C)\n",
    "svm.fit(X_train, y_train)\n",
    "print('Accuracy-train dataset: {:.3f}'.format(svm.score(X_train,y_train)))\n",
    "print('Accuracy- test dataset: {:.3f}'.format(svm.score(X_test,y_test)))\n"
   ]
  },
  {
   "cell_type": "code",
   "execution_count": 6,
   "metadata": {},
   "outputs": [
    {
     "name": "stdout",
     "output_type": "stream",
     "text": [
      "Accuracy-train dataset: 1.000\n",
      "Accuracy- test dataset: 0.629\n"
     ]
    }
   ],
   "source": [
    "# fitting the model by using rbf kernel\n",
    "svm= SVC(kernel=\"rbf\",C=C)\n",
    "svm.fit(X_train, y_train)\n",
    "print('Accuracy-train dataset: {:.3f}'.format(svm.score(X_train,y_train)))\n",
    "print('Accuracy- test dataset: {:.3f}'.format(svm.score(X_test,y_test)))\n"
   ]
  },
  {
   "cell_type": "markdown",
   "metadata": {},
   "source": [
    "It's an overfitting case as accuracy on testset is very low as compared to training data. We will go ahead and normalize it"
   ]
  },
  {
   "cell_type": "code",
   "execution_count": 7,
   "metadata": {},
   "outputs": [],
   "source": [
    "#Normalizing the data\n",
    "min_train = X_train.min(axis=0)\n",
    "range_train = (X_train - min_train).max(axis=0)\n",
    "X_train_scaled = (X_train - min_train)/range_train\n",
    "X_test_scaled = (X_test - min_train)/range_train\n"
   ]
  },
  {
   "cell_type": "markdown",
   "metadata": {},
   "source": [
    "Let's fit a model on the scaled data."
   ]
  },
  {
   "cell_type": "code",
   "execution_count": 9,
   "metadata": {},
   "outputs": [
    {
     "name": "stdout",
     "output_type": "stream",
     "text": [
      "Accuracy-train dataset:0.948\n",
      "Accuracy test dataset:0.951\n"
     ]
    }
   ],
   "source": [
    "svm= SVC(kernel=\"rbf\",C=C)\n",
    "svm.fit(X_train_scaled, y_train)\n",
    "print('Accuracy-train dataset:{:.3f}'.format(svm.score(X_train_scaled,y_train)))\n",
    "print('Accuracy test dataset:{:.3f}'.format(svm.score(X_test_scaled,y_test)))\n"
   ]
  },
  {
   "cell_type": "markdown",
   "metadata": {},
   "source": [
    "We will get to the optimal hyperparameters now with the help of Grid Search."
   ]
  },
  {
   "cell_type": "code",
   "execution_count": 10,
   "metadata": {},
   "outputs": [
    {
     "name": "stdout",
     "output_type": "stream",
     "text": [
      "Best parameters set found on development set:\n",
      "\n",
      "{'C': 1, 'kernel': 'linear'}\n",
      "\n",
      "Grid scores on training set:\n",
      "\n",
      "0.937 (+/-0.057) for {'C': 1, 'kernel': 'rbf', 'gamma': 0.0001}\n",
      "0.923 (+/-0.071) for {'C': 1, 'kernel': 'rbf', 'gamma': 0.001}\n",
      "0.627 (+/-0.006) for {'C': 1, 'kernel': 'rbf', 'gamma': 0.01}\n",
      "0.627 (+/-0.006) for {'C': 1, 'kernel': 'rbf', 'gamma': 0.1}\n",
      "0.627 (+/-0.006) for {'C': 1, 'kernel': 'rbf', 'gamma': 0.2}\n",
      "0.627 (+/-0.006) for {'C': 1, 'kernel': 'rbf', 'gamma': 0.5}\n",
      "0.937 (+/-0.044) for {'C': 10, 'kernel': 'rbf', 'gamma': 0.0001}\n",
      "0.918 (+/-0.047) for {'C': 10, 'kernel': 'rbf', 'gamma': 0.001}\n",
      "0.629 (+/-0.015) for {'C': 10, 'kernel': 'rbf', 'gamma': 0.01}\n",
      "0.627 (+/-0.006) for {'C': 10, 'kernel': 'rbf', 'gamma': 0.1}\n",
      "0.627 (+/-0.006) for {'C': 10, 'kernel': 'rbf', 'gamma': 0.2}\n",
      "0.627 (+/-0.006) for {'C': 10, 'kernel': 'rbf', 'gamma': 0.5}\n",
      "0.934 (+/-0.031) for {'C': 100, 'kernel': 'rbf', 'gamma': 0.0001}\n",
      "0.918 (+/-0.047) for {'C': 100, 'kernel': 'rbf', 'gamma': 0.001}\n",
      "0.629 (+/-0.015) for {'C': 100, 'kernel': 'rbf', 'gamma': 0.01}\n",
      "0.627 (+/-0.006) for {'C': 100, 'kernel': 'rbf', 'gamma': 0.1}\n",
      "0.627 (+/-0.006) for {'C': 100, 'kernel': 'rbf', 'gamma': 0.2}\n",
      "0.627 (+/-0.006) for {'C': 100, 'kernel': 'rbf', 'gamma': 0.5}\n",
      "0.930 (+/-0.040) for {'C': 1000, 'kernel': 'rbf', 'gamma': 0.0001}\n",
      "0.918 (+/-0.047) for {'C': 1000, 'kernel': 'rbf', 'gamma': 0.001}\n",
      "0.629 (+/-0.015) for {'C': 1000, 'kernel': 'rbf', 'gamma': 0.01}\n",
      "0.627 (+/-0.006) for {'C': 1000, 'kernel': 'rbf', 'gamma': 0.1}\n",
      "0.627 (+/-0.006) for {'C': 1000, 'kernel': 'rbf', 'gamma': 0.2}\n",
      "0.627 (+/-0.006) for {'C': 1000, 'kernel': 'rbf', 'gamma': 0.5}\n",
      "0.960 (+/-0.048) for {'C': 1, 'kernel': 'linear'}\n",
      "0.946 (+/-0.048) for {'C': 10, 'kernel': 'linear'}\n",
      "0.953 (+/-0.039) for {'C': 100, 'kernel': 'linear'}\n",
      "0.953 (+/-0.039) for {'C': 1000, 'kernel': 'linear'}\n",
      "\n"
     ]
    }
   ],
   "source": [
    "parameters = [{'kernel': ['rbf'],'gamma': [1e-4, 1e-3, 0.01, 0.1, 0.2, 0.5],'C': [1, 10, 100, 1000]},{'kernel': ['linear'], 'C': [1, 10, 100, 1000]}]\n",
    "clf = GridSearchCV(SVC(decision_function_shape='ovr'), parameters, cv=5)\n",
    "clf.fit(X_train, y_train)\n",
    "print(\"Best parameters set found on development set:\")\n",
    "print()\n",
    "print(clf.best_params_)\n",
    "print()\n",
    "print(\"Grid scores on training set:\")\n",
    "print()\n",
    "means = clf.cv_results_['mean_test_score']\n",
    "stds = clf.cv_results_['std_test_score']\n",
    "for mean, std, params in zip(means, stds, clf.cv_results_['params']):\n",
    "    print(\"%0.3f (+/-%0.03f) for %r\" % (mean, std * 2, params))\n",
    "print()"
   ]
  }
 ],
 "metadata": {
  "kernelspec": {
   "display_name": "Python 3",
   "language": "python",
   "name": "python3"
  },
  "language_info": {
   "codemirror_mode": {
    "name": "ipython",
    "version": 3
   },
   "file_extension": ".py",
   "mimetype": "text/x-python",
   "name": "python",
   "nbconvert_exporter": "python",
   "pygments_lexer": "ipython3",
   "version": "3.5.4"
  }
 },
 "nbformat": 4,
 "nbformat_minor": 2
}
